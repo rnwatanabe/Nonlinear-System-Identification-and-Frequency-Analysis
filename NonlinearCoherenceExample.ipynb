{
 "cells": [
  {
   "cell_type": "markdown",
   "metadata": {},
   "source": [
    "# Nonlinear Directional Coherence\n",
    "\n"
   ]
  },
  {
   "cell_type": "code",
   "execution_count": 1,
   "metadata": {},
   "outputs": [],
   "source": [
    "import identFunctions as ident\n",
    "import GFRFfunctions as GFRF\n",
    "import numpy as np\n",
    "import matplotlib.pyplot as plt\n",
    "from sympy.plotting import plot3d, plot\n",
    "import sympy as sym\n",
    "from scipy.signal import filtfilt, butter, correlate\n",
    "import scipy"
   ]
  },
  {
   "cell_type": "markdown",
   "metadata": {},
   "source": [
    "All of those signals were estimated by computing the Nonlinear Output Frequency Response Function (NOFRF) (Billings, 2013) of the NARMAX identified systems. The systems were identified with the FROLS method (Billings, 2013)."
   ]
  },
  {
   "cell_type": "markdown",
   "metadata": {},
   "source": [
    "## Example 1\n",
    "\n",
    "\\begin{align}\n",
    "   u(i) =& 0.5u(i-1) - 0.3u(i-2) + 0.1y(i-2) + 0.4y(i-1)y(i-2) + eu(i-1)\\\\\n",
    "   y(i) =& 0.3y(i-1) - y(i-2) - 0.1u(i-2) + ey(i-1)\n",
    "\\end{align}"
   ]
  },
  {
   "cell_type": "code",
   "execution_count": 2,
   "metadata": {},
   "outputs": [],
   "source": [
    "def system(u, Fs, noiseSTD=0.0, eu=0, ey=0):\n",
    "    N = len(u)\n",
    "    t = np.arange(0, N/Fs, 1/Fs)\n",
    "#    y = np.sin(2*np.pi*4.52*t).reshape(-1,1)\n",
    "    y = 0*np.random.randn(len(u), 1)\n",
    "    \n",
    "    for i in range(2, len(u)):\n",
    "        u[i] = 0.5*u[i-1] - 0.3*u[i-2] + 0.1*y[i-2] + 0.4*y[i-1]*y[i-2] + eu[i-1]\n",
    "        y[i] = 0.3*y[i-1] - y[i-2] - 0.1*u[i-2] + ey[i-1]\n",
    "\n",
    "    u = u + noiseSTD*np.random.randn(N, 1)\n",
    "    y = y + noiseSTD*np.random.randn(N, 1)\n",
    "    \n",
    "    return t, u, y"
   ]
  },
  {
   "cell_type": "code",
   "execution_count": 6,
   "metadata": {},
   "outputs": [
    {
     "name": "stderr",
     "output_type": "stream",
     "text": [
      "/home/rnwatanabe/miniconda3/lib/python3.6/site-packages/ipykernel_launcher.py:8: RuntimeWarning: overflow encountered in multiply\n",
      "  \n",
      "/home/rnwatanabe/miniconda3/lib/python3.6/site-packages/ipykernel_launcher.py:8: RuntimeWarning: invalid value encountered in subtract\n",
      "  \n",
      "/home/rnwatanabe/miniconda3/lib/python3.6/site-packages/ipykernel_launcher.py:9: RuntimeWarning: invalid value encountered in subtract\n",
      "  if __name__ == '__main__':\n"
     ]
    }
   ],
   "source": [
    "Fs = 20.0\n",
    "N = 100000\n",
    "\n",
    "u = 0*np.random.randn(N, 1)\n",
    "eu = 0.2*np.random.randn(N, 1)\n",
    "ey = 0.2*np.random.randn(N, 1)\n",
    "\n",
    "#ey = filtfilt(b, a, ey, axis = 0)\n",
    "#eu = filtfilt(b, a, eu, axis = 0)\n",
    "\n",
    "t, u, y = system(u, Fs, noiseSTD=0, eu=eu, ey=ey)"
   ]
  },
  {
   "cell_type": "code",
   "execution_count": 4,
   "metadata": {},
   "outputs": [
    {
     "data": {
      "image/png": "[encoded data removed]",
      "text/plain": [
       "<Figure size 432x288 with 1 Axes>"
      ]
     },
     "metadata": {
      "needs_background": "light"
     },
     "output_type": "display_data"
    }
   ],
   "source": [
    "plt.figure()\n",
    "plt.plot(t, u)\n",
    "plt.title('u')\n",
    "plt.show()"
   ]
  },
  {
   "cell_type": "code",
   "execution_count": 5,
   "metadata": {},
   "outputs": [
    {
     "data": {
      "image/png": "[encoded data removed]",
      "text/plain": [
       "<Figure size 432x288 with 1 Axes>"
      ]
     },
     "metadata": {
      "needs_background": "light"
     },
     "output_type": "display_data"
    }
   ],
   "source": [
    "plt.figure()\n",
    "plt.plot(t, y)\n",
    "plt.title('y')\n",
    "plt.show()"
   ]
  },
  {
   "cell_type": "markdown",
   "metadata": {},
   "source": [
    "### Signals FFT"
   ]
  },
  {
   "cell_type": "code",
   "execution_count": null,
   "metadata": {},
   "outputs": [],
   "source": [
    "fmin = 0\n",
    "fmax = Fs/2\n",
    "fres = 0.01\n",
    "#%%\n",
    "print('signals FFTs')\n",
    "Y, f = GFRF.computeSignalFFT(ident.reshapeyvector(y, L=1), Fs, fres)\n",
    "U, f = GFRF.computeSignalFFT(ident.reshapeyvector(u, L=1), Fs, fres)\n",
    "EU, f = GFRF.computeSignalFFT(ident.reshapeyvector(eu, L=1), Fs, fres)\n",
    "\n",
    "plt.figure()\n",
    "plt.plot(f, 20*np.log10(np.abs(U)))\n",
    "plt.title('U')\n",
    "plt.show()\n",
    "\n",
    "plt.figure()\n",
    "plt.plot(f, 20*np.log10(np.abs(Y)))\n",
    "plt.title('Y')\n",
    "plt.show()"
   ]
  },
  {
   "cell_type": "markdown",
   "metadata": {},
   "source": [
    "### System identification"
   ]
  },
  {
   "cell_type": "code",
   "execution_count": null,
   "metadata": {},
   "outputs": [],
   "source": [
    "maxLagu = 2\n",
    "maxLagy = 2\n",
    "order = 2\n",
    "u.shape"
   ]
  },
  {
   "cell_type": "markdown",
   "metadata": {},
   "source": [
    "#### $u \\rightarrow y$"
   ]
  },
  {
   "cell_type": "code",
   "execution_count": null,
   "metadata": {},
   "outputs": [],
   "source": [
    "beta_uy, n_uy, Duy = ident.identifyModel(u, y, maxLagu, maxLagy, ustring='u', \n",
    "                                         ystring='y', nstring='n', delay=1, degree=order, \n",
    "                                         L=20, constantTerm=True, pho = 0.005, supress=False, \n",
    "                                         elsMethod='RLS')"
   ]
  },
  {
   "cell_type": "code",
   "execution_count": null,
   "metadata": {},
   "outputs": [],
   "source": [
    " ident.validation(u, n_uy, Duy, ustring='u', ystring='y')"
   ]
  },
  {
   "cell_type": "markdown",
   "metadata": {},
   "source": [
    "#### $y \\rightarrow u$"
   ]
  },
  {
   "cell_type": "code",
   "execution_count": null,
   "metadata": {},
   "outputs": [],
   "source": [
    "beta_yu, n_yu, Dyu = ident.identifyModel(y, u, maxLagy, maxLagu, ustring='y',\n",
    "                                         ystring='u', nstring='m', delay=1,\n",
    "                                         degree=2, L=20, constantTerm=True,\n",
    "                                         pho=0.01, supress=True)"
   ]
  },
  {
   "cell_type": "code",
   "execution_count": null,
   "metadata": {},
   "outputs": [],
   "source": [
    " ident.validation(y, n_yu, Dyu, ustring='y', ystring='u')"
   ]
  },
  {
   "cell_type": "markdown",
   "metadata": {},
   "source": [
    "### Generalised Frequency Responses"
   ]
  },
  {
   "cell_type": "markdown",
   "metadata": {},
   "source": [
    "#### $u \\rightarrow y$"
   ]
  },
  {
   "cell_type": "code",
   "execution_count": null,
   "metadata": {},
   "outputs": [],
   "source": [
    "Hnuy = GFRF.computeSystemGFRF(Duy, Fs, beta_uy, order, ustring='u', ystring='y')\n",
    "Hnuy[1]"
   ]
  },
  {
   "cell_type": "code",
   "execution_count": null,
   "metadata": {
    "scrolled": false
   },
   "outputs": [],
   "source": [
    "Hnuy[2]"
   ]
  },
  {
   "cell_type": "markdown",
   "metadata": {},
   "source": [
    "#### $y \\rightarrow u$"
   ]
  },
  {
   "cell_type": "code",
   "execution_count": null,
   "metadata": {},
   "outputs": [],
   "source": [
    "Hnyu = GFRF.computeSystemGFRF(Dyu, Fs, beta_yu, order, ustring='y', ystring='u')\n",
    "Hnyu[1]"
   ]
  },
  {
   "cell_type": "code",
   "execution_count": null,
   "metadata": {},
   "outputs": [],
   "source": [
    "Hnyu[2]"
   ]
  },
  {
   "cell_type": "markdown",
   "metadata": {},
   "source": [
    "### Transfer of Power between the signals"
   ]
  },
  {
   "cell_type": "markdown",
   "metadata": {},
   "source": [
    "\\begin{equation}\n",
    "    I_{U\\rightarrow Y} = \\ln\\frac{\\left|Y_{u_l^-,y_l^-,u_n^-,y_n^-} \\right|^2 + \\left|Y_{y_l^-,y_n^-} \\right|^2}{\\left|Y_{y_l^-,y_n^-} \\right|^2}\n",
    "\\end{equation}\n",
    "\n",
    "\\begin{equation}\n",
    "    I_{Y\\rightarrow U} = \\ln\\frac{\\left|U_{u_l^-,y_l^-,u_n^-,y_n^-} \\right|^2 + \\left|U_{u_l^-,u_n^-}\\right|^2}{\\left|U_{u_l^-,u_n^-} \\right|^2}\n",
    "\\end{equation}\n",
    "\n",
    "\\begin{equation}\n",
    "    I_{U\\rightarrow U} = \\ln\\frac{\\left|U_{u_l^-,y_l^-,u_n^-,y_n^-}  \\right|^2 + \\left|U_{u_l^-,u_n^-} \\right|^2}{\\left|U_{u_l^-,y_l^-,u_n^-,y_n^-} \\right|^2}\n",
    "\\end{equation}\n",
    "\n",
    "\\begin{equation}\n",
    "    I_{Y\\rightarrow Y} = \\ln\\frac{\\left|Y_{u_l^-,y_l^-,u_n^-,y_n^-}  \\right|^2 + \\left|Y_{y_l^-,y_n^-} \\right|^2}{\\left|Y_{u_l^-,y_l^-,u_n^-,y_n^-} \\right|^2}\n",
    "\\end{equation}\n",
    "\n",
    "\n",
    "where $Y_{u_l^-,y_l^-,u_n^-,y_n^-}$ is the part of $y$ caused by the past of the signals $u$ and $y$, $U_{u_l^-,y_l^-,u_n^-,y_n^-}$ is the part of $u$ caused by the past of the signals $u$ and $y$, $Y_{y_l^-,y_n^-}$ is the intrinsic part of $y$ caused by the past of the signals $y$ and the error model $e_y$ and $U_{u_l^-,u_n^-}$ is the intrinsic part of $u$ caused by the past of the signals $u$ and the error model $e_u$. "
   ]
  },
  {
   "cell_type": "markdown",
   "metadata": {},
   "source": [
    "### Coherence 1 (Normalized Power Transfer)\n",
    "\n",
    "\\begin{equation}\n",
    "    NC_{U\\rightarrow Y} = \\frac{I_{U \\rightarrow Y}}{\\sqrt{I_{U \\rightarrow Y}^2+I_{Y \\rightarrow Y}^2+I_{U \\rightarrow U}^2+I_{Y \\rightarrow U}^2}}\n",
    "\\end{equation}\n",
    "\n",
    "\\begin{equation}\n",
    "    NC_{Y\\rightarrow U} = \\frac{I_{Y \\rightarrow U}}{\\sqrt{I_{U \\rightarrow Y}^2+I_{Y \\rightarrow Y}^2+I_{U \\rightarrow U}^2+I_{Y \\rightarrow U}^2}}\n",
    "\\end{equation}"
   ]
  },
  {
   "cell_type": "code",
   "execution_count": null,
   "metadata": {},
   "outputs": [],
   "source": [
    "f_inputMin = 0\n",
    "f_inputMax = Fs/2\n",
    "maxDegree = 2\n",
    "NPDCuy, NPDCyu, f, NPDCuyn, NPDCyun, NPDCuyLinear, NPDCyuLinear, NPDCuynLinear, NPDCyunLinear = GFRF.NPDC(u, y, Fs, fres, beta_uy, beta_yu, Duy, Dyu,\n",
    "                                                                                                          Hnuy, Hnyu, f_inputMin, f_inputMax, maxOrder=maxDegree, \n",
    "                                                                                                          L=50, ustring='u', ystring='y')\n",
    "    \n",
    "        "
   ]
  },
  {
   "cell_type": "code",
   "execution_count": null,
   "metadata": {},
   "outputs": [],
   "source": [
    "plt.figure()\n",
    "# plt.plot(f, np.abs(NPDCuyn))\n",
    "plt.plot(f, np.abs(NPDCuy))\n",
    "# plt.plot(f, np.abs(np.mean(NPDCuyn, axis=1)), linewidth=6)\n",
    "plt.ylim(0, 1)\n",
    "plt.title('NPDC u->y')\n",
    "plt.show()\n",
    "\n",
    "\n",
    "plt.figure()\n",
    "# plt.plot(f, np.abs(NPDCyun))\n",
    "plt.plot(f, np.abs(NPDCyu))\n",
    "plt.ylim(0, 1)\n",
    "plt.title('NPDC y->u')\n",
    "plt.show()\n",
    "\n",
    "\n",
    "\n",
    "                                                                                         \n",
    "plt.figure()\n",
    "# plt.plot(f, np.abs(NPDCuynLinear))\n",
    "plt.plot(f, np.abs(NPDCuyLinear))\n",
    "plt.ylim(0, 1)\n",
    "plt.title('NPDC u->y Linear')\n",
    "plt.show()\n",
    "\n",
    "\n",
    "plt.figure()\n",
    "# plt.plot(f, np.abs(NPDCyunLinear))\n",
    "plt.plot(f, np.abs(NPDCyuLinear))\n",
    "plt.ylim(0, 1)\n",
    "plt.title('NPDC y->u Linear')\n",
    "plt.show()"
   ]
  },
  {
   "cell_type": "markdown",
   "metadata": {},
   "source": [
    "## Example 2\n",
    "\n",
    "\\begin{align}\n",
    "   u(i) =& 0.5u(i-1) - 0.3u(i-2) + 0.1y(i-2) + 0.4y(i-1)y(i-2) + eu(i-1)\\\\\n",
    "   y(i) =& \\sin\\left(2\\pi4.2\\frac{i}{F_s}\\right) + ey(i-1)\n",
    "\\end{align}\n",
    "\n",
    "with $F_s=20$ Hz."
   ]
  },
  {
   "cell_type": "code",
   "execution_count": null,
   "metadata": {},
   "outputs": [],
   "source": [
    "def system2(u, Fs, noiseSTD=0.0, eu=0, ey=0):\n",
    "    N = len(u)\n",
    "    t = np.arange(0, N/Fs, 1/Fs)\n",
    "#     y = np.sin(2*np.pi*4.52*t).reshape(-1,1)\n",
    "    y = 0*np.random.randn(len(u), 1)\n",
    "    \n",
    "    for i in range(2, len(u)):\n",
    "        u[i] = 0.5*u[i-1] - 0.3*u[i-2] + 0.1*y[i-2] + 0.4*y[i-1]*y[i-2] + eu[i-1]\n",
    "        y[i] = 5*np.sin(2*np.pi*4.5*t[i]) + ey[i-1]\n",
    "\n",
    "    u = u + noiseSTD*np.random.randn(N, 1)\n",
    "    y = y + noiseSTD*np.random.randn(N, 1)\n",
    "    \n",
    "    return t, u, y"
   ]
  },
  {
   "cell_type": "code",
   "execution_count": null,
   "metadata": {},
   "outputs": [],
   "source": [
    "Fs = 20.0\n",
    "N = 100000\n",
    "\n",
    "u = 0*np.random.randn(N, 1)\n",
    "eu = 0.2*np.random.randn(N, 1)\n",
    "ey = 0.1*np.random.randn(N, 1)\n",
    "\n",
    "#ey = filtfilt(b, a, ey, axis = 0)\n",
    "#eu = filtfilt(b, a, eu, axis = 0)\n",
    "\n",
    "t, u, y = system2(u, Fs, noiseSTD=0, eu=eu, ey=ey)"
   ]
  },
  {
   "cell_type": "code",
   "execution_count": null,
   "metadata": {},
   "outputs": [],
   "source": [
    "plt.figure()\n",
    "plt.plot(t, u)\n",
    "plt.title('u')\n",
    "plt.show()"
   ]
  },
  {
   "cell_type": "code",
   "execution_count": null,
   "metadata": {},
   "outputs": [],
   "source": [
    "plt.figure()\n",
    "plt.plot(t, y)\n",
    "plt.title('y')\n",
    "plt.show()"
   ]
  },
  {
   "cell_type": "markdown",
   "metadata": {},
   "source": [
    "### Signals FFT"
   ]
  },
  {
   "cell_type": "code",
   "execution_count": null,
   "metadata": {},
   "outputs": [],
   "source": [
    "fmin = 0\n",
    "fmax = Fs/2\n",
    "fres = 0.01\n",
    "#%%\n",
    "print('signals FFTs')\n",
    "Y, f = GFRF.computeSignalFFT(ident.reshapeyvector(y, L=1), Fs, fres)\n",
    "U, f = GFRF.computeSignalFFT(ident.reshapeyvector(u, L=1), Fs, fres)\n",
    "EU, f = GFRF.computeSignalFFT(ident.reshapeyvector(eu, L=1), Fs, fres)\n",
    "\n",
    "plt.figure()\n",
    "plt.plot(f, 20*np.log10(np.abs(U)))\n",
    "plt.title('U')\n",
    "plt.show()\n",
    "\n",
    "plt.figure()\n",
    "plt.plot(f, 20*np.log10(np.abs(Y)))\n",
    "plt.title('Y')\n",
    "plt.show()"
   ]
  },
  {
   "cell_type": "markdown",
   "metadata": {},
   "source": [
    "### System identification"
   ]
  },
  {
   "cell_type": "code",
   "execution_count": null,
   "metadata": {},
   "outputs": [],
   "source": [
    "maxLagu = 5\n",
    "maxLagy = 5\n",
    "order = 2\n"
   ]
  },
  {
   "cell_type": "markdown",
   "metadata": {},
   "source": [
    "#### $u \\rightarrow y$"
   ]
  },
  {
   "cell_type": "code",
   "execution_count": null,
   "metadata": {},
   "outputs": [],
   "source": [
    "beta_uy, n_uy, Duy = ident.identifyModel(u, y, maxLagu, maxLagy, ustring='u',\n",
    "                                         ystring='y', nstring='n', delay=1,\n",
    "                                         degree=order, L=20, constantTerm=True,\n",
    "                                         pho = 0.0001, supress=False)"
   ]
  },
  {
   "cell_type": "markdown",
   "metadata": {},
   "source": [
    "#### $y \\rightarrow u$"
   ]
  },
  {
   "cell_type": "code",
   "execution_count": null,
   "metadata": {},
   "outputs": [],
   "source": [
    "beta_yu, n_yu, Dyu = ident.identifyModel(y, u, maxLagy, maxLagu, ustring='y',\n",
    "                                         ystring='u', nstring='m', delay=1,\n",
    "                                         degree=2, L=20, constantTerm=True,\n",
    "                                         pho=0.0001, supress=False)"
   ]
  },
  {
   "cell_type": "code",
   "execution_count": null,
   "metadata": {},
   "outputs": [],
   "source": [
    "_, n_uy, maxLag_uy = ident.osaWithStruct(u, y, beta_uy, Duy, 2, \n",
    "                                         ustring='u', ystring='y')\n",
    "n_uy"
   ]
  },
  {
   "cell_type": "code",
   "execution_count": null,
   "metadata": {},
   "outputs": [],
   "source": [
    "_, n_yu, maxLag_yu = ident.osaWithStruct(y, u, beta_yu, Dyu, 2, \n",
    "                                         ustring='y', ystring='u')\n",
    "n_yu"
   ]
  },
  {
   "cell_type": "markdown",
   "metadata": {},
   "source": [
    "### Generalised Frequency Responses"
   ]
  },
  {
   "cell_type": "markdown",
   "metadata": {},
   "source": [
    "#### $u \\rightarrow y$"
   ]
  },
  {
   "cell_type": "code",
   "execution_count": null,
   "metadata": {},
   "outputs": [],
   "source": [
    "Hnuy = GFRF.computeSystemGFRF(Duy, Fs, beta_uy, order, ustring='u', ystring='y')\n",
    "Hnuy[1]"
   ]
  },
  {
   "cell_type": "code",
   "execution_count": null,
   "metadata": {
    "scrolled": false
   },
   "outputs": [],
   "source": [
    "Hnuy[2]"
   ]
  },
  {
   "cell_type": "markdown",
   "metadata": {},
   "source": [
    "#### $y \\rightarrow u$"
   ]
  },
  {
   "cell_type": "code",
   "execution_count": null,
   "metadata": {},
   "outputs": [],
   "source": [
    "Hnyu = GFRF.computeSystemGFRF(Dyu, Fs, beta_yu, order, ustring='y', ystring='u')\n",
    "Hnyu[1]"
   ]
  },
  {
   "cell_type": "code",
   "execution_count": null,
   "metadata": {},
   "outputs": [],
   "source": [
    "Hnyu[2]"
   ]
  },
  {
   "cell_type": "code",
   "execution_count": null,
   "metadata": {},
   "outputs": [],
   "source": [
    "f1, f2 = sym.symbols('f1 f2')\n",
    "Hu = sym.lambdify(f1, Hnyu[1], 'numpy')\n",
    "\n",
    "fV = np.linspace(-Fs/2, Fs/2, 100000)\n",
    "\n",
    "\n",
    "plt.figure()\n",
    "plt.plot(fV, np.abs(Hu(fV)))\n",
    "plt.title('Hu1')\n",
    "plt.show()\n",
    "\n",
    "\n",
    "plot3d(sym.Abs(Hnyu[2]), (f1,-Fs/2, Fs/2), (f2,-Fs/2, Fs/2))\n"
   ]
  },
  {
   "cell_type": "markdown",
   "metadata": {},
   "source": [
    "### Transfer of Power between the signals"
   ]
  },
  {
   "cell_type": "markdown",
   "metadata": {},
   "source": [
    "### Coherence (Normalized Power Transfer)\n",
    "\n",
    "\\begin{equation}\n",
    "    NC_{U\\rightarrow Y} = \\frac{I_{U \\rightarrow Y}}{\\sqrt{I_{U \\rightarrow Y}^2+I_{Y \\rightarrow Y}^2+I_{U \\rightarrow U}^2+I_{Y \\rightarrow U}^2}}\n",
    "\\end{equation}\n",
    "\n",
    "\\begin{equation}\n",
    "    NC_{Y\\rightarrow U} = \\frac{I_{Y \\rightarrow U}}{\\sqrt{I_{U \\rightarrow Y}^2+I_{Y \\rightarrow Y}^2+I_{U \\rightarrow U}^2+I_{Y \\rightarrow U}^2}}\n",
    "\\end{equation}"
   ]
  },
  {
   "cell_type": "code",
   "execution_count": null,
   "metadata": {},
   "outputs": [],
   "source": [
    "f_inputMin = 0\n",
    "f_inputMax = Fs/2\n",
    "maxDegree = 2\n",
    "NPDCuy, NPDCyu, f, NPDCuyn, NPDCyun, NPDCuyLinear, NPDCyuLinear, NPDCuynLinear, NPDCyunLinear = GFRF.NPDC(u, y, Fs, fres, beta_uy, beta_yu, Duy, Dyu,\n",
    "                                                                                                          Hnuy, Hnyu, f_inputMin, f_inputMax, maxOrder=maxDegree, \n",
    "                                                                                                          L=50, ustring='u', ystring='y')\n",
    "    "
   ]
  },
  {
   "cell_type": "code",
   "execution_count": null,
   "metadata": {},
   "outputs": [],
   "source": [
    "plt.figure()\n",
    "# plt.plot(f, np.abs(NPDCuyn))\n",
    "plt.plot(f, np.abs(NPDCuy))\n",
    "# plt.plot(f, np.abs(np.mean(NPDCuyn, axis=1)), linewidth=6)\n",
    "plt.ylim(0, 1)\n",
    "plt.title('NPDC u->y')\n",
    "plt.show()\n",
    "\n",
    "\n",
    "plt.figure()\n",
    "plt.plot(f, np.abs(NPDCyun))\n",
    "plt.plot(f, np.abs(NPDCyu), linewidth=5)\n",
    "plt.ylim(0, 1)\n",
    "plt.title('NPDC y->u')\n",
    "plt.show()\n",
    "\n",
    "\n",
    "\n",
    "                                                                                         \n",
    "plt.figure()\n",
    "# plt.plot(f, np.abs(NPDCuynLinear))\n",
    "plt.plot(f, np.abs(NPDCuyLinear))\n",
    "plt.ylim(0, 1)\n",
    "plt.title('NPDC u->y Linear')\n",
    "plt.show()\n",
    "\n",
    "\n",
    "plt.figure()\n",
    "# plt.plot(f, np.abs(NPDCyunLinear))\n",
    "plt.plot(f, np.abs(NPDCyuLinear))\n",
    "plt.ylim(0, 1)\n",
    "plt.title('NPDC y->u Linear')\n",
    "plt.show()"
   ]
  },
  {
   "cell_type": "markdown",
   "metadata": {},
   "source": [
    "## Example 3\n",
    "\n",
    "\\begin{align}\n",
    "    y(i) = & \\sin(2\\pi2i) + \\sin(2\\pi3i) +e_y(i-1)\\\\\n",
    "    u(i) = & 0.5u(i-1) - 0.3u(i-2) +0.1y(i-2) + 0.1u(i-2)^2 +0.4y(i-1)y(i-2) + e_y(i-1)\n",
    "\\end{align}"
   ]
  },
  {
   "cell_type": "code",
   "execution_count": null,
   "metadata": {},
   "outputs": [],
   "source": [
    "def system3(u, Fs, noiseSTD=0.0, eu=0, ey=0):\n",
    "    N = len(u)\n",
    "    t = np.arange(0, N/Fs, 1/Fs)\n",
    "#     y = np.sin(2*np.pi*4.52*t).reshape(-1,1)\n",
    "    y = 0*np.random.randn(len(u), 1)\n",
    "    \n",
    "    for i in range(2, len(u)):\n",
    "        y[i] = np.sin(2*np.pi*2*t[i]) + np.sin(2*np.pi*3*t[i]) + ey[i-1]\n",
    "        u[i] = 0.5*u[i-1] - 0.3*u[i-2] + 0.1*y[i-2] + 0.1*u[i-2]**2 + 0.4*y[i-1]*y[i-2] + eu[i-1]\n",
    "\n",
    "    u = u + noiseSTD*np.random.randn(N, 1)\n",
    "    y = y + noiseSTD*np.random.randn(N, 1)\n",
    "    \n",
    "    return t, u, y"
   ]
  },
  {
   "cell_type": "code",
   "execution_count": null,
   "metadata": {},
   "outputs": [],
   "source": [
    "Fs = 20.0\n",
    "N = 600\n",
    "\n",
    "u = 0*np.random.randn(N, 1)\n",
    "eu = 0.05*np.random.randn(N, 1)\n",
    "ey = 0.02*np.random.randn(N, 1)\n",
    "\n",
    "#ey = filtfilt(b, a, ey, axis = 0)\n",
    "#eu = filtfilt(b, a, eu, axis = 0)\n",
    "\n",
    "t, u, y = system3(u, Fs, noiseSTD=0, eu=eu, ey=ey)"
   ]
  },
  {
   "cell_type": "code",
   "execution_count": null,
   "metadata": {},
   "outputs": [],
   "source": [
    "plt.figure()\n",
    "plt.plot(t, u)\n",
    "plt.title('u')\n",
    "plt.show()"
   ]
  },
  {
   "cell_type": "code",
   "execution_count": null,
   "metadata": {},
   "outputs": [],
   "source": [
    "plt.figure()\n",
    "plt.plot(t, y)\n",
    "plt.title('y')\n",
    "plt.show()"
   ]
  },
  {
   "cell_type": "markdown",
   "metadata": {},
   "source": [
    "### Signals FFT"
   ]
  },
  {
   "cell_type": "code",
   "execution_count": null,
   "metadata": {},
   "outputs": [],
   "source": [
    "fmin = 0\n",
    "fmax = Fs/2\n",
    "fres = 0.01\n",
    "#%%\n",
    "print('signals FFTs')\n",
    "Y, f = GFRF.computeSignalFFT(ident.reshapeyvector(y, L=1), Fs, fres)\n",
    "U, f = GFRF.computeSignalFFT(ident.reshapeyvector(u, L=1), Fs, fres)\n",
    "EU, f = GFRF.computeSignalFFT(ident.reshapeyvector(eu, L=1), Fs, fres)\n",
    "\n",
    "plt.figure()\n",
    "plt.plot(f, 20*np.log10(np.abs(U)))\n",
    "plt.title('U')\n",
    "plt.show()\n",
    "\n",
    "plt.figure()\n",
    "plt.plot(f, 20*np.log10(np.abs(Y)))\n",
    "plt.title('Y')\n",
    "plt.show()"
   ]
  },
  {
   "cell_type": "markdown",
   "metadata": {},
   "source": [
    "### System identification"
   ]
  },
  {
   "cell_type": "code",
   "execution_count": null,
   "metadata": {},
   "outputs": [],
   "source": [
    "maxLagu = 2\n",
    "maxLagy = 2\n",
    "order = 2\n"
   ]
  },
  {
   "cell_type": "markdown",
   "metadata": {},
   "source": [
    "#### $u \\rightarrow y$"
   ]
  },
  {
   "cell_type": "code",
   "execution_count": null,
   "metadata": {
    "scrolled": true
   },
   "outputs": [],
   "source": [
    "beta_uy, n_uy, Duy = ident.identifyModel(u, y, maxLagu, maxLagy, ustring='u',\n",
    "                                         ystring='y', nstring='n', delay=1,\n",
    "                                         degree=order, L=1, constantTerm=True,\n",
    "                                         pho = 0.001, supress=False, elsMethod='RLS')"
   ]
  },
  {
   "cell_type": "markdown",
   "metadata": {},
   "source": [
    "#### $y \\rightarrow u$"
   ]
  },
  {
   "cell_type": "code",
   "execution_count": null,
   "metadata": {},
   "outputs": [],
   "source": [
    "beta_yu, n_yu, Dyu = ident.identifyModel(y, u, maxLagy, maxLagu, ustring='y',\n",
    "                                         ystring='u', nstring='m', delay=1,\n",
    "                                         degree=2, L=1, constantTerm=True,\n",
    "                                         pho=0.0001, supress=False, elsMethod='RLS')"
   ]
  },
  {
   "cell_type": "markdown",
   "metadata": {},
   "source": [
    "### Generalised Frequency Responses"
   ]
  },
  {
   "cell_type": "markdown",
   "metadata": {},
   "source": [
    "#### $u \\rightarrow y$"
   ]
  },
  {
   "cell_type": "code",
   "execution_count": null,
   "metadata": {},
   "outputs": [],
   "source": [
    "Hnuy = GFRF.computeSystemGFRF(Duy, Fs, beta_uy, order, ustring='u', ystring='y')\n",
    "Hnuy[1]"
   ]
  },
  {
   "cell_type": "code",
   "execution_count": null,
   "metadata": {
    "scrolled": false
   },
   "outputs": [],
   "source": [
    "Hnuy[2]"
   ]
  },
  {
   "cell_type": "markdown",
   "metadata": {},
   "source": [
    "#### $y \\rightarrow u$"
   ]
  },
  {
   "cell_type": "code",
   "execution_count": null,
   "metadata": {},
   "outputs": [],
   "source": [
    "Hnyu = GFRF.computeSystemGFRF(Dyu, Fs, beta_yu, order, ustring='y', ystring='u')\n",
    "Hnyu[1]"
   ]
  },
  {
   "cell_type": "code",
   "execution_count": null,
   "metadata": {},
   "outputs": [],
   "source": [
    "Hnyu[2]"
   ]
  },
  {
   "cell_type": "markdown",
   "metadata": {},
   "source": [
    "### Transfer of Power between the signals"
   ]
  },
  {
   "cell_type": "markdown",
   "metadata": {},
   "source": [
    "\\begin{equation}\n",
    "    I_{U\\rightarrow Y} = \\ln\\frac{\\left|Y_{u_l^-,y_l^-,u_n^-,y_n^-} \\right|^2 + \\left|Y_{y_l^-,y_n^-} \\right|^2}{\\left|Y_{y_l^-,y_n^-} \\right|^2}\n",
    "\\end{equation}\n",
    "\n",
    "\\begin{equation}\n",
    "    I_{Y\\rightarrow U} = \\ln\\frac{\\left|U_{u_l^-,y_l^-,u_n^-,y_n^-} \\right|^2 + \\left|U_{u_l^-,u_n^-}\\right|^2}{\\left|U_{u_l^-,u_n^-} \\right|^2}\n",
    "\\end{equation}\n",
    "\n",
    "\\begin{equation}\n",
    "    I_{U\\rightarrow U} = \\ln\\frac{\\left|U_{u_l^-,y_l^-,u_n^-,y_n^-}  \\right|^2 + \\left|U_{u_l^-,u_n^-} \\right|^2}{\\left|U_{u_l^-,y_l^-,u_n^-,y_n^-} \\right|^2}\n",
    "\\end{equation}\n",
    "\n",
    "\\begin{equation}\n",
    "    I_{Y\\rightarrow Y} = \\ln\\frac{\\left|Y_{u_l^-,y_l^-,u_n^-,y_n^-}  \\right|^2 + \\left|Y_{y_l^-,y_n^-} \\right|^2}{\\left|Y_{u_l^-,y_l^-,u_n^-,y_n^-} \\right|^2}\n",
    "\\end{equation}\n",
    "\n",
    "\n",
    "where $Y_{u_l^-,y_l^-,u_n^-,y_n^-}$ is the part of $y$ caused by the past of the signals $u$ and $y$, $U_{u_l^-,y_l^-,u_n^-,y_n^-}$ is the part of $u$ caused by the past of the signals $u$ and $y$, $Y_{y_l^-,y_n^-}$ is the intrinsic part of $y$ caused by the past of the signals $y$ and the error model $e_y$ and $U_{u_l^-,u_n^-}$ is the intrinsic part of $u$ caused by the past of the signals $u$ and the error model $e_u$. "
   ]
  },
  {
   "cell_type": "markdown",
   "metadata": {},
   "source": [
    "### Coherence 1 (Normalized Power Transfer)\n",
    "\n",
    "\\begin{equation}\n",
    "    NC_{U\\rightarrow Y} = \\frac{I_{U \\rightarrow Y}}{\\sqrt{I_{U \\rightarrow Y}^2+I_{Y \\rightarrow Y}^2+I_{U \\rightarrow U}^2+I_{Y \\rightarrow U}^2}}\n",
    "\\end{equation}\n",
    "\n",
    "\\begin{equation}\n",
    "    NC_{Y\\rightarrow U} = \\frac{I_{Y \\rightarrow U}}{\\sqrt{I_{U \\rightarrow Y}^2+I_{Y \\rightarrow Y}^2+I_{U \\rightarrow U}^2+I_{Y \\rightarrow U}^2}}\n",
    "\\end{equation}"
   ]
  },
  {
   "cell_type": "code",
   "execution_count": null,
   "metadata": {},
   "outputs": [],
   "source": [
    "f_inputMin = 0\n",
    "f_inputMax = Fs/2\n",
    "maxDegree = 2\n",
    "NPDCuy, NPDCyu, f, NPDCuyn, NPDCyun, NPDCuyLinear, NPDCyuLinear, NPDCuynLinear, NPDCyunLinear = GFRF.NPDC(u, y, Fs, fres, beta_uy, beta_yu, Duy, Dyu,\n",
    "                                                                                                          Hnuy, Hnyu, f_inputMin, f_inputMax, maxOrder=maxDegree, \n",
    "                                                                                                          L=50, ustring='u', ystring='y')\n",
    "    "
   ]
  },
  {
   "cell_type": "code",
   "execution_count": null,
   "metadata": {
    "scrolled": true
   },
   "outputs": [],
   "source": [
    "plt.figure()\n",
    "# plt.plot(f, np.abs(NPDCuyn))\n",
    "plt.plot(f, np.abs(NPDCuy))\n",
    "# plt.plot(f, np.abs(np.mean(NPDCuyn, axis=1)), linewidth=6)\n",
    "plt.ylim(0, 1)\n",
    "plt.title('NPDC u->y')\n",
    "plt.show()\n",
    "\n",
    "\n",
    "plt.figure()\n",
    "# plt.plot(f, np.abs(NPDCyun))\n",
    "plt.plot(f, np.abs(NPDCyu))\n",
    "plt.ylim(0, 1)\n",
    "plt.title('NPDC y->u')\n",
    "plt.show()\n",
    "\n",
    "\n",
    "\n",
    "                                                                                         \n",
    "plt.figure()\n",
    "# plt.plot(f, np.abs(NPDCuynLinear))\n",
    "plt.plot(f, np.abs(NPDCuyLinear))\n",
    "plt.ylim(0, 1)\n",
    "plt.title('NPDC u->y Linear')\n",
    "plt.show()\n",
    "\n",
    "\n",
    "plt.figure()\n",
    "# plt.plot(f, np.abs(NPDCyunLinear))\n",
    "plt.plot(f, np.abs(NPDCyuLinear))\n",
    "plt.ylim(0, 1)\n",
    "plt.title('NPDC y->u Linear')\n",
    "plt.show()"
   ]
  },
  {
   "cell_type": "markdown",
   "metadata": {},
   "source": [
    "## Example 4\n",
    "\n",
    "\\begin{align}\n",
    "   u(i) = & 0.5u(i-1) - 0.3u(i-2) +0.1y(i-2) + 0.1u(i-2)^2 +0.4y(i-1)y(i-2) + e_u(i-1)\\\\\n",
    "   y(i) =& 0.3y(i-1) - y(i-2) - 0.1u(i-2) + ey(i-1)\\\\   \n",
    "\\end{align}"
   ]
  },
  {
   "cell_type": "code",
   "execution_count": null,
   "metadata": {},
   "outputs": [],
   "source": [
    "def system4(u, Fs, noiseSTD=0.0, eu=0, ey=0):\n",
    "    N = len(u)\n",
    "    t = np.arange(0, N/Fs, 1/Fs)\n",
    "#    y = np.sin(2*np.pi*4.52*t).reshape(-1,1)\n",
    "    y = 0*np.random.randn(len(u), 1)\n",
    "    \n",
    "    for i in range(2, len(u)):\n",
    "        u[i] = 0.5*u[i-1] - 0.3*u[i-2] + 0.1*y[i-2] + 0.1*u[i-2]**2 + 0.4*y[i-1]*y[i-2] + eu[i-1]\n",
    "        y[i] = 0.3*y[i-1] - y[i-2] - 0.1*u[i-2] + ey[i-1]\n",
    "\n",
    "    u = u + noiseSTD*np.random.randn(N, 1)\n",
    "    y = y + noiseSTD*np.random.randn(N, 1)\n",
    "    \n",
    "    return t, u, y"
   ]
  },
  {
   "cell_type": "code",
   "execution_count": null,
   "metadata": {},
   "outputs": [],
   "source": [
    "Fs = 20.0\n",
    "N = 100000\n",
    "\n",
    "u = 0*np.random.randn(N, 1)\n",
    "eu = 0.1*np.random.randn(N, 1)\n",
    "ey = 0.1*np.random.randn(N, 1)\n",
    "\n",
    "#ey = filtfilt(b, a, ey, axis = 0)\n",
    "#eu = filtfilt(b, a, eu, axis = 0)\n",
    "\n",
    "t, u, y = system4(u, Fs, noiseSTD=0, eu=eu, ey=ey)"
   ]
  },
  {
   "cell_type": "code",
   "execution_count": null,
   "metadata": {},
   "outputs": [],
   "source": [
    "plt.figure()\n",
    "plt.plot(t, u)\n",
    "plt.title('u')\n",
    "plt.show()"
   ]
  },
  {
   "cell_type": "code",
   "execution_count": null,
   "metadata": {},
   "outputs": [],
   "source": [
    "plt.figure()\n",
    "plt.plot(t, y)\n",
    "plt.title('y')\n",
    "plt.show()"
   ]
  },
  {
   "cell_type": "markdown",
   "metadata": {},
   "source": [
    "### Signals FFT"
   ]
  },
  {
   "cell_type": "code",
   "execution_count": null,
   "metadata": {},
   "outputs": [],
   "source": [
    "fmin = 0\n",
    "fmax = Fs/2\n",
    "fres = 0.01\n",
    "#%%\n",
    "print('signals FFTs')\n",
    "Y, f = GFRF.computeSignalFFT(ident.reshapeyvector(y, L=1), Fs, fres)\n",
    "U, f = GFRF.computeSignalFFT(ident.reshapeyvector(u, L=1), Fs, fres)\n",
    "EU, f = GFRF.computeSignalFFT(ident.reshapeyvector(eu, L=1), Fs, fres)\n",
    "\n",
    "plt.figure()\n",
    "plt.plot(f, 20*np.log10(np.abs(U)))\n",
    "plt.title('U')\n",
    "plt.show()\n",
    "\n",
    "plt.figure()\n",
    "plt.plot(f, 20*np.log10(np.abs(Y)))\n",
    "plt.title('Y')\n",
    "plt.show()"
   ]
  },
  {
   "cell_type": "markdown",
   "metadata": {},
   "source": [
    "### System identification"
   ]
  },
  {
   "cell_type": "code",
   "execution_count": null,
   "metadata": {},
   "outputs": [],
   "source": [
    "maxLagu = 2\n",
    "maxLagy = 2\n",
    "order = 2\n"
   ]
  },
  {
   "cell_type": "markdown",
   "metadata": {},
   "source": [
    "#### $u \\rightarrow y$"
   ]
  },
  {
   "cell_type": "code",
   "execution_count": null,
   "metadata": {},
   "outputs": [],
   "source": [
    "beta_uy, n_uy, Duy = ident.identifyModel(u, y, maxLagu, maxLagy, ustring='u',\n",
    "                                         ystring='y', nstring='n', delay=1,\n",
    "                                         degree=order, L=20, constantTerm=True,\n",
    "                                         pho = 0.005, supress=False)"
   ]
  },
  {
   "cell_type": "markdown",
   "metadata": {},
   "source": [
    "#### $y \\rightarrow u$"
   ]
  },
  {
   "cell_type": "code",
   "execution_count": null,
   "metadata": {},
   "outputs": [],
   "source": [
    "beta_yu, n_yu, Dyu = ident.identifyModel(y, u, maxLagy, maxLagu, ustring='y',\n",
    "                                         ystring='u', nstring='m', delay=1,\n",
    "                                         degree=2, L=20, constantTerm=True,\n",
    "                                         pho=0.0001, supress=False)"
   ]
  },
  {
   "cell_type": "markdown",
   "metadata": {},
   "source": [
    "### Generalised Frequency Responses"
   ]
  },
  {
   "cell_type": "markdown",
   "metadata": {},
   "source": [
    "#### $u \\rightarrow y$"
   ]
  },
  {
   "cell_type": "code",
   "execution_count": null,
   "metadata": {},
   "outputs": [],
   "source": [
    "Hnuy = GFRF.computeSystemGFRF(Duy, Fs, beta_uy, order, ustring='u', ystring='y')\n",
    "Hnuy[1]"
   ]
  },
  {
   "cell_type": "code",
   "execution_count": null,
   "metadata": {
    "scrolled": false
   },
   "outputs": [],
   "source": [
    "Hnuy[2]"
   ]
  },
  {
   "cell_type": "markdown",
   "metadata": {},
   "source": [
    "#### $y \\rightarrow u$"
   ]
  },
  {
   "cell_type": "code",
   "execution_count": null,
   "metadata": {},
   "outputs": [],
   "source": [
    "Hnyu = GFRF.computeSystemGFRF(Dyu, Fs, beta_yu, order, ustring='y', ystring='u')\n",
    "Hnyu[1]"
   ]
  },
  {
   "cell_type": "code",
   "execution_count": null,
   "metadata": {},
   "outputs": [],
   "source": [
    "Hnyu[2]"
   ]
  },
  {
   "cell_type": "markdown",
   "metadata": {},
   "source": [
    "### Transfer of Power between the signals"
   ]
  },
  {
   "cell_type": "markdown",
   "metadata": {},
   "source": [
    "\\begin{equation}\n",
    "    I_{U\\rightarrow Y} = \\ln\\frac{\\left|Y_{u_l^-,y_l^-,u_n^-,y_n^-} \\right|^2 + \\left|Y_{y_l^-,y_n^-} \\right|^2}{\\left|Y_{y_l^-,y_n^-} \\right|^2}\n",
    "\\end{equation}\n",
    "\n",
    "\\begin{equation}\n",
    "    I_{Y\\rightarrow U} = \\ln\\frac{\\left|U_{u_l^-,y_l^-,u_n^-,y_n^-} \\right|^2 + \\left|U_{u_l^-,u_n^-}\\right|^2}{\\left|U_{u_l^-,u_n^-} \\right|^2}\n",
    "\\end{equation}\n",
    "\n",
    "\\begin{equation}\n",
    "    I_{U\\rightarrow U} = \\ln\\frac{\\left|U_{u_l^-,y_l^-,u_n^-,y_n^-}  \\right|^2 + \\left|U_{u_l^-,u_n^-} \\right|^2}{\\left|U_{u_l^-,y_l^-,u_n^-,y_n^-} \\right|^2}\n",
    "\\end{equation}\n",
    "\n",
    "\\begin{equation}\n",
    "    I_{Y\\rightarrow Y} = \\ln\\frac{\\left|Y_{u_l^-,y_l^-,u_n^-,y_n^-}  \\right|^2 + \\left|Y_{y_l^-,y_n^-} \\right|^2}{\\left|Y_{u_l^-,y_l^-,u_n^-,y_n^-} \\right|^2}\n",
    "\\end{equation}\n",
    "\n",
    "\n",
    "where $Y_{u_l^-,y_l^-,u_n^-,y_n^-}$ is the part of $y$ caused by the past of the signals $u$ and $y$, $U_{u_l^-,y_l^-,u_n^-,y_n^-}$ is the part of $u$ caused by the past of the signals $u$ and $y$, $Y_{y_l^-,y_n^-}$ is the intrinsic part of $y$ caused by the past of the signals $y$ and the error model $e_y$ and $U_{u_l^-,u_n^-}$ is the intrinsic part of $u$ caused by the past of the signals $u$ and the error model $e_u$. "
   ]
  },
  {
   "cell_type": "markdown",
   "metadata": {},
   "source": [
    "### Coherence (Normalized Power Transfer)\n",
    "\n",
    "\\begin{equation}\n",
    "    NC_{U\\rightarrow Y} = \\frac{I_{U \\rightarrow Y}}{\\sqrt{I_{U \\rightarrow Y}^2+I_{Y \\rightarrow Y}^2+I_{U \\rightarrow U}^2+I_{Y \\rightarrow U}^2}}\n",
    "\\end{equation}\n",
    "\n",
    "\\begin{equation}\n",
    "    NC_{Y\\rightarrow U} = \\frac{I_{Y \\rightarrow U}}{\\sqrt{I_{U \\rightarrow Y}^2+I_{Y \\rightarrow Y}^2+I_{U \\rightarrow U}^2+I_{Y \\rightarrow U}^2}}\n",
    "\\end{equation}"
   ]
  },
  {
   "cell_type": "code",
   "execution_count": null,
   "metadata": {},
   "outputs": [],
   "source": [
    "L = 50\n",
    "NPDCuy, NPDCyu, f, NPDCuyn, NPDCyun, NPDCuyLinear, NPDCyuLinear, NPDCuynLinear, NPDCyunLinear = GFRF.NPDC(u, y, Fs, fres, beta_uy, beta_yu, Duy, Dyu,\n",
    "                                                                                                          Hnuy, Hnyu, f_inputMin, f_inputMax, maxOrder=maxDegree, \n",
    "                                                                                                          N=L, ustring='u', ystring='y')\n",
    "    \n",
    "\n",
    "\n",
    "Th = 1 - (1-0.95)**(1/(L-1))"
   ]
  },
  {
   "cell_type": "code",
   "execution_count": null,
   "metadata": {},
   "outputs": [],
   "source": [
    "plt.figure()\n",
    "# plt.plot(f, np.abs(NPDCuyn))\n",
    "plt.plot(f, np.abs(NPDCuy))\n",
    "plt.plot(f, Th*np.ones_like(f), '--k')\n",
    "# plt.plot(f, np.abs(np.mean(NPDCuyn, axis=1)), linewidth=6)\n",
    "plt.ylim(0, 1)\n",
    "plt.title('NPDC u->y')\n",
    "plt.show()\n",
    "\n",
    "\n",
    "plt.figure()\n",
    "# plt.plot(f, np.abs(NPDCyun))\n",
    "plt.plot(f, np.abs(NPDCyu))\n",
    "plt.plot(f, Th*np.ones_like(f), '--k')\n",
    "plt.ylim(0, 1)\n",
    "plt.title('NPDC y->u')\n",
    "plt.show()\n",
    "\n",
    "\n",
    "\n",
    "                                                                                         \n",
    "plt.figure()\n",
    "# plt.plot(f, np.abs(NPDCuynLinear))\n",
    "plt.plot(f, np.abs(NPDCuyLinear))\n",
    "plt.plot(f, Th*np.ones_like(f), '--k')\n",
    "plt.ylim(0, 1)\n",
    "plt.title('NPDC u->y Linear')\n",
    "plt.show()\n",
    "\n",
    "\n",
    "plt.figure()\n",
    "# plt.plot(f, np.abs(NPDCyunLinear))\n",
    "plt.plot(f, np.abs(NPDCyuLinear))\n",
    "plt.plot(f, Th*np.ones_like(f), '--k')\n",
    "plt.ylim(0, 1)\n",
    "plt.title('NPDC y->u Linear')\n",
    "plt.show()"
   ]
  },
  {
   "cell_type": "markdown",
   "metadata": {},
   "source": [
    "## Example 5\n",
    "\n",
    "\\begin{align}\n",
    "   u(i) = &  e_u(i-1)\\\\\n",
    "   y(i) =& e_y(i-1)\\\\   \n",
    "\\end{align}"
   ]
  },
  {
   "cell_type": "code",
   "execution_count": null,
   "metadata": {},
   "outputs": [],
   "source": [
    "def system5(u, Fs, noiseSTD=0.0, eu=0, ey=0):\n",
    "    N = len(u)\n",
    "    t = np.arange(0, N/Fs, 1/Fs)\n",
    "#    y = np.sin(2*np.pi*4.52*t).reshape(-1,1)\n",
    "    y = 0*np.random.randn(len(u), 1)\n",
    "    \n",
    "    for i in range(0, len(u)):\n",
    "        u[i] = eu[i]\n",
    "        y[i] = ey[i]\n",
    "\n",
    "    u = u + noiseSTD*np.random.randn(N, 1)\n",
    "    y = y + noiseSTD*np.random.randn(N, 1)\n",
    "    \n",
    "    return t, u, y"
   ]
  },
  {
   "cell_type": "code",
   "execution_count": null,
   "metadata": {},
   "outputs": [],
   "source": [
    "Fs = 20.0\n",
    "N = 100000\n",
    "\n",
    "u = 0*np.random.randn(N, 1)\n",
    "eu = 0.1*np.random.randn(N, 1)\n",
    "ey = 0.1*np.random.randn(N, 1)\n",
    "\n",
    "#ey = filtfilt(b, a, ey, axis = 0)\n",
    "#eu = filtfilt(b, a, eu, axis = 0)\n",
    "\n",
    "t, u, y = system5(u, Fs, noiseSTD=0, eu=eu, ey=ey)"
   ]
  },
  {
   "cell_type": "code",
   "execution_count": null,
   "metadata": {},
   "outputs": [],
   "source": [
    "plt.figure()\n",
    "plt.plot(t, u)\n",
    "plt.title('u')\n",
    "plt.show()"
   ]
  },
  {
   "cell_type": "code",
   "execution_count": null,
   "metadata": {},
   "outputs": [],
   "source": [
    "plt.figure()\n",
    "plt.plot(t, y)\n",
    "plt.title('y')\n",
    "plt.show()"
   ]
  },
  {
   "cell_type": "markdown",
   "metadata": {},
   "source": [
    "### Signals FFT"
   ]
  },
  {
   "cell_type": "code",
   "execution_count": null,
   "metadata": {},
   "outputs": [],
   "source": [
    "fmin = 0\n",
    "fmax = Fs/2\n",
    "fres = 0.01\n",
    "#%%\n",
    "print('signals FFTs')\n",
    "Y, f = GFRF.computeSignalFFT(ident.reshapeyvector(y, L=1), Fs, fres)\n",
    "U, f = GFRF.computeSignalFFT(ident.reshapeyvector(u, L=1), Fs, fres)\n",
    "EU, f = GFRF.computeSignalFFT(ident.reshapeyvector(eu, L=1), Fs, fres)\n",
    "\n",
    "plt.figure()\n",
    "plt.plot(f, 20*np.log10(np.abs(U)))\n",
    "plt.title('U')\n",
    "plt.show()\n",
    "\n",
    "plt.figure()\n",
    "plt.plot(f, 20*np.log10(np.abs(Y)))\n",
    "plt.title('Y')\n",
    "plt.show()"
   ]
  },
  {
   "cell_type": "markdown",
   "metadata": {},
   "source": [
    "### System identification"
   ]
  },
  {
   "cell_type": "code",
   "execution_count": null,
   "metadata": {},
   "outputs": [],
   "source": [
    "maxLagu = 2\n",
    "maxLagy = 2\n",
    "order = 2\n"
   ]
  },
  {
   "cell_type": "markdown",
   "metadata": {},
   "source": [
    "#### $u \\rightarrow y$"
   ]
  },
  {
   "cell_type": "code",
   "execution_count": null,
   "metadata": {},
   "outputs": [],
   "source": [
    "beta_uy, n_uy, Duy = ident.identifyModel(u, y, maxLagu, maxLagy, ustring='u',\n",
    "                                         ystring='y', nstring='n', delay=1,\n",
    "                                         degree=order, L=200, constantTerm=True,\n",
    "                                         pho = 0.0001, supress=False)"
   ]
  },
  {
   "cell_type": "markdown",
   "metadata": {},
   "source": [
    "#### $y \\rightarrow u$"
   ]
  },
  {
   "cell_type": "code",
   "execution_count": null,
   "metadata": {},
   "outputs": [],
   "source": [
    "beta_yu, n_yu, Dyu = ident.identifyModel(y, u, maxLagy, maxLagu, ustring='y',\n",
    "                                         ystring='u', nstring='m', delay=1,\n",
    "                                         degree=2, L=200, constantTerm=True,\n",
    "                                         pho=0.0001, supress=False)"
   ]
  },
  {
   "cell_type": "markdown",
   "metadata": {},
   "source": [
    "### Generalised Frequency Responses"
   ]
  },
  {
   "cell_type": "markdown",
   "metadata": {},
   "source": [
    "#### $u \\rightarrow y$"
   ]
  },
  {
   "cell_type": "code",
   "execution_count": null,
   "metadata": {},
   "outputs": [],
   "source": [
    "Hnuy = GFRF.computeSystemGFRF(Duy, Fs, beta_uy, order, ustring='u', ystring='y')\n",
    "Hnuy[1]"
   ]
  },
  {
   "cell_type": "code",
   "execution_count": null,
   "metadata": {
    "scrolled": false
   },
   "outputs": [],
   "source": [
    "Hnuy[2]"
   ]
  },
  {
   "cell_type": "markdown",
   "metadata": {},
   "source": [
    "#### $y \\rightarrow u$"
   ]
  },
  {
   "cell_type": "code",
   "execution_count": null,
   "metadata": {},
   "outputs": [],
   "source": [
    "Hnyu = GFRF.computeSystemGFRF(Dyu, Fs, beta_yu, order, ustring='y', ystring='u')\n",
    "Hnyu[1]"
   ]
  },
  {
   "cell_type": "code",
   "execution_count": null,
   "metadata": {},
   "outputs": [],
   "source": [
    "Hnyu[2]"
   ]
  },
  {
   "cell_type": "markdown",
   "metadata": {},
   "source": [
    "### Transfer of Power between the signals"
   ]
  },
  {
   "cell_type": "markdown",
   "metadata": {},
   "source": [
    "\\begin{equation}\n",
    "    I_{U\\rightarrow Y} = \\ln\\frac{\\left|Y_{u_l^-,y_l^-,u_n^-,y_n^-} \\right|^2 + \\left|Y_{y_l^-,y_n^-} \\right|^2}{\\left|Y_{y_l^-,y_n^-} \\right|^2}\n",
    "\\end{equation}\n",
    "\n",
    "\\begin{equation}\n",
    "    I_{Y\\rightarrow U} = \\ln\\frac{\\left|U_{u_l^-,y_l^-,u_n^-,y_n^-} \\right|^2 + \\left|U_{u_l^-,u_n^-}\\right|^2}{\\left|U_{u_l^-,u_n^-} \\right|^2}\n",
    "\\end{equation}\n",
    "\n",
    "\\begin{equation}\n",
    "    I_{U\\rightarrow U} = \\ln\\frac{\\left|U_{u_l^-,y_l^-,u_n^-,y_n^-}  \\right|^2 + \\left|U_{u_l^-,u_n^-} \\right|^2}{\\left|U_{u_l^-,y_l^-,u_n^-,y_n^-} \\right|^2}\n",
    "\\end{equation}\n",
    "\n",
    "\\begin{equation}\n",
    "    I_{Y\\rightarrow Y} = \\ln\\frac{\\left|Y_{u_l^-,y_l^-,u_n^-,y_n^-}  \\right|^2 + \\left|Y_{y_l^-,y_n^-} \\right|^2}{\\left|Y_{u_l^-,y_l^-,u_n^-,y_n^-} \\right|^2}\n",
    "\\end{equation}\n",
    "\n",
    "\n",
    "where $Y_{u_l^-,y_l^-,u_n^-,y_n^-}$ is the part of $y$ caused by the past of the signals $u$ and $y$, $U_{u_l^-,y_l^-,u_n^-,y_n^-}$ is the part of $u$ caused by the past of the signals $u$ and $y$, $Y_{y_l^-,y_n^-}$ is the intrinsic part of $y$ caused by the past of the signals $y$ and the error model $e_y$ and $U_{u_l^-,u_n^-}$ is the intrinsic part of $u$ caused by the past of the signals $u$ and the error model $e_u$. "
   ]
  },
  {
   "cell_type": "markdown",
   "metadata": {},
   "source": [
    "### Coherence 1 (Normalized Power Transfer)\n",
    "\n",
    "\\begin{equation}\n",
    "    NC_{U\\rightarrow Y} = \\frac{I_{U \\rightarrow Y}}{\\sqrt{I_{U \\rightarrow Y}^2+I_{Y \\rightarrow Y}^2+I_{U \\rightarrow U}^2+I_{Y \\rightarrow U}^2}}\n",
    "\\end{equation}\n",
    "\n",
    "\\begin{equation}\n",
    "    NC_{Y\\rightarrow U} = \\frac{I_{Y \\rightarrow U}}{\\sqrt{I_{U \\rightarrow Y}^2+I_{Y \\rightarrow Y}^2+I_{U \\rightarrow U}^2+I_{Y \\rightarrow U}^2}}\n",
    "\\end{equation}"
   ]
  },
  {
   "cell_type": "code",
   "execution_count": null,
   "metadata": {},
   "outputs": [],
   "source": [
    "NPDCuy, NPDCyu, f, NPDCuyn, NPDCyun, NPDCuyLinear, NPDCyuLinear, NPDCuynLinear, NPDCyunLinear = GFRF.NPDC(u, y, Fs, fres, beta_uy, beta_yu, Duy, Dyu,\n",
    "                                                                                                          Hnuy, Hnyu, f_inputMin, f_inputMax, maxOrder=maxDegree, \n",
    "                                                                                                          N=50, ustring='u', ystring='y')\n",
    "    "
   ]
  },
  {
   "cell_type": "code",
   "execution_count": null,
   "metadata": {},
   "outputs": [],
   "source": [
    "plt.figure()\n",
    "plt.plot(f, np.abs(NPDCuyn))\n",
    "plt.plot(f, np.abs(NPDCuy))\n",
    "# plt.plot(f, np.abs(np.mean(NPDCuyn, axis=1)), linewidth=6)\n",
    "plt.ylim(0, 1)\n",
    "plt.title('NPDC u->y')\n",
    "plt.show()\n",
    "\n",
    "plt.figure()\n",
    "plt.plot(f, np.abs(NPDCyun))\n",
    "plt.plot(f, np.abs(NPDCyu))\n",
    "plt.ylim(0, 1)\n",
    "plt.title('NPDC y->u')\n",
    "plt.show()\n",
    "                                                                                       \n",
    "plt.figure()\n",
    "# plt.plot(f, np.abs(NPDCuynLinear))\n",
    "plt.plot(f, np.abs(NPDCuyLinear))\n",
    "plt.ylim(0, 1)\n",
    "plt.title('NPDC u->y Linear')\n",
    "plt.show()\n",
    "\n",
    "plt.figure()\n",
    "plt.plot(f, np.abs(NPDCyunLinear))\n",
    "plt.plot(f, np.abs(NPDCyuLinear))\n",
    "plt.ylim(0, 1)\n",
    "plt.title('NPDC y->u Linear')\n",
    "plt.show()"
   ]
  },
  {
   "cell_type": "code",
   "execution_count": null,
   "metadata": {},
   "outputs": [],
   "source": [
    "L = 1\n",
    "Th = (np.log((np.abs(np.mean(Y)/L)**2)/(np.abs(1e-7)**2))/\n",
    "      np.sqrt(2*np.log((np.abs(np.mean(Y)/L)**2)/(np.abs(1e-7)**2))**2 +\n",
    "              + 2*np.log((np.abs(np.mean(Y)/L)**2)/(np.abs(np.mean(Y)/L+1e-7)**2))**2))\n",
    "\n",
    "Th"
   ]
  },
  {
   "cell_type": "code",
   "execution_count": null,
   "metadata": {},
   "outputs": [],
   "source": [
    "1/np.sqrt(2)"
   ]
  },
  {
   "cell_type": "code",
   "execution_count": null,
   "metadata": {},
   "outputs": [],
   "source": []
  }
 ],
 "metadata": {
  "kernelspec": {
   "display_name": "Python 3",
   "language": "python",
   "name": "python3"
  },
  "language_info": {
   "codemirror_mode": {
    "name": "ipython",
    "version": 3
   },
   "file_extension": ".py",
   "mimetype": "text/x-python",
   "name": "python",
   "nbconvert_exporter": "python",
   "pygments_lexer": "ipython3",
   "version": "3.6.9"
  },
  "latex_envs": {
   "LaTeX_envs_menu_present": true,
   "autoclose": false,
   "autocomplete": true,
   "bibliofile": "biblio.bib",
   "cite_by": "apalike",
   "current_citInitial": 1,
   "eqLabelWithNumbers": true,
   "eqNumInitial": 1,
   "hotkeys": {
    "equation": "Ctrl-E",
    "itemize": "Ctrl-I"
   },
   "labels_anchors": false,
   "latex_user_defs": false,
   "report_style_numbering": false,
   "user_envs_cfg": false
  }
 },
 "nbformat": 4,
 "nbformat_minor": 2
}
